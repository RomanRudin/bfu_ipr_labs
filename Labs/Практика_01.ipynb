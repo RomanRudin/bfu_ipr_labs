{
 "cells": [
  {
   "attachments": {},
   "cell_type": "markdown",
   "metadata": {},
   "source": [
    "# Методы обработки и распознавания изображений \n",
    "\n",
    "## Практическое занятие 1: Введение в PyTorch\n",
    "\n",
    "Сегодня мы познакомимся с библиотекой **PyTorch**. Она очень похожа на **NumPy**, с одним важным отличием — **PyTorch** может считать градиенты за вас. Таким образом вам не надо будет писать обратный проход в нейросетях."
   ]
  },
  {
   "cell_type": "code",
   "execution_count": 1,
   "metadata": {},
   "outputs": [
    {
     "name": "stderr",
     "output_type": "stream",
     "text": [
      "C:\\Users\\SNTkachenko\\Anaconda3_2011\\lib\\site-packages\\scipy\\__init__.py:146: UserWarning: A NumPy version >=1.16.5 and <1.23.0 is required for this version of SciPy (detected version 1.24.3\n",
      "  warnings.warn(f\"A NumPy version >={np_minversion} and <{np_maxversion}\"\n"
     ]
    }
   ],
   "source": [
    "import matplotlib.pyplot as plt\n",
    "import numpy as np\n",
    "import torch\n",
    "import torch.nn.functional as F\n",
    "import torchvision\n",
    "from sklearn.datasets import load_boston\n",
    "from torch import nn\n",
    "from tqdm.notebook import tqdm\n",
    "\n",
    "%matplotlib inline"
   ]
  },
  {
   "cell_type": "markdown",
   "metadata": {},
   "source": [
    "### 1. Сравнение **NumPy** и **PyTorch**\n",
    "\n",
    "Мы можем создавать матрицы, перемножать их, складывать, транспонировать и в целом совершать любые матричные операции"
   ]
  },
  {
   "cell_type": "code",
   "execution_count": 2,
   "metadata": {},
   "outputs": [
    {
     "data": {
      "text/plain": [
       "array([[0.93735107, 0.31892892, 0.06420857],\n",
       "       [0.71899016, 0.25309397, 0.1602174 ],\n",
       "       [0.37501248, 0.16824189, 0.39595481],\n",
       "       [0.66277465, 0.52970662, 0.40176477],\n",
       "       [0.12893279, 0.11205263, 0.3929182 ]])"
      ]
     },
     "execution_count": 2,
     "metadata": {},
     "output_type": "execute_result"
    }
   ],
   "source": [
    "# случайная матрица\n",
    "a = np.random.rand(5, 3)\n",
    "a"
   ]
  },
  {
   "cell_type": "code",
   "execution_count": 3,
   "metadata": {},
   "outputs": [
    {
     "data": {
      "text/plain": [
       "(5, 3)"
      ]
     },
     "execution_count": 3,
     "metadata": {},
     "output_type": "execute_result"
    }
   ],
   "source": [
    "# размеры массива\n",
    "a.shape"
   ]
  },
  {
   "cell_type": "code",
   "execution_count": 4,
   "metadata": {},
   "outputs": [
    {
     "data": {
      "text/plain": [
       "array([[5.93735107, 5.31892892, 5.06420857],\n",
       "       [5.71899016, 5.25309397, 5.1602174 ],\n",
       "       [5.37501248, 5.16824189, 5.39595481],\n",
       "       [5.66277465, 5.52970662, 5.40176477],\n",
       "       [5.12893279, 5.11205263, 5.3929182 ]])"
      ]
     },
     "execution_count": 4,
     "metadata": {},
     "output_type": "execute_result"
    }
   ],
   "source": [
    "# сложение\n",
    "a + 5"
   ]
  },
  {
   "cell_type": "code",
   "execution_count": 5,
   "metadata": {},
   "outputs": [
    {
     "data": {
      "text/plain": [
       "array([[0.98446543, 0.76495252, 0.43059925, 0.81598803, 0.18182083],\n",
       "       [0.76495252, 0.60667303, 0.37565014, 0.67496371, 0.18401358],\n",
       "       [0.43059925, 0.37565014, 0.32571991, 0.4967483 , 0.2227812 ],\n",
       "       [0.81598803, 0.67496371, 0.4967483 , 0.88127427, 0.30266909],\n",
       "       [0.18182083, 0.18401358, 0.2227812 , 0.30266909, 0.18356417]])"
      ]
     },
     "execution_count": 5,
     "metadata": {},
     "output_type": "execute_result"
    }
   ],
   "source": [
    "# матричное умножение\n",
    "a @ a.T"
   ]
  },
  {
   "cell_type": "code",
   "execution_count": 6,
   "metadata": {},
   "outputs": [
    {
     "data": {
      "text/plain": [
       "array([0.44016285, 0.37743384, 0.31306973, 0.53141535, 0.21130121])"
      ]
     },
     "execution_count": 6,
     "metadata": {},
     "output_type": "execute_result"
    }
   ],
   "source": [
    "# среднее по колонкам\n",
    "a.mean(axis=-1)"
   ]
  },
  {
   "cell_type": "code",
   "execution_count": 7,
   "metadata": {},
   "outputs": [
    {
     "data": {
      "text/plain": [
       "(3, 5)"
      ]
     },
     "execution_count": 7,
     "metadata": {},
     "output_type": "execute_result"
    }
   ],
   "source": [
    "# решейп\n",
    "a.reshape(3, 5).shape"
   ]
  },
  {
   "cell_type": "markdown",
   "metadata": {},
   "source": [
    "#### Разминка\n",
    "\n",
    "При помощи **NumPy** посчитайте сумму квадратов натуральных чисел от 1 до 10000."
   ]
  },
  {
   "cell_type": "code",
   "execution_count": 8,
   "metadata": {},
   "outputs": [],
   "source": [
    "# YOUR CODE"
   ]
  },
  {
   "cell_type": "markdown",
   "metadata": {},
   "source": [
    "Аналогичные операции в **PyTorch** очень похожи, но иногда имеют немного другой синтаксис"
   ]
  },
  {
   "cell_type": "code",
   "execution_count": 8,
   "metadata": {},
   "outputs": [
    {
     "data": {
      "text/plain": [
       "tensor([[0.4528, 0.0029, 0.3485],\n",
       "        [0.8736, 0.9935, 0.6619],\n",
       "        [0.9980, 0.5366, 0.5366],\n",
       "        [0.8365, 0.1910, 0.6753],\n",
       "        [0.9053, 0.2032, 0.7880]])"
      ]
     },
     "execution_count": 8,
     "metadata": {},
     "output_type": "execute_result"
    }
   ],
   "source": [
    "# случайный тензор\n",
    "x = torch.rand(5, 3)\n",
    "x"
   ]
  },
  {
   "cell_type": "code",
   "execution_count": 9,
   "metadata": {},
   "outputs": [
    {
     "data": {
      "text/plain": [
       "torch.Size([5, 3])"
      ]
     },
     "execution_count": 9,
     "metadata": {},
     "output_type": "execute_result"
    }
   ],
   "source": [
    "# размеры тензора\n",
    "x.shape"
   ]
  },
  {
   "cell_type": "code",
   "execution_count": 10,
   "metadata": {},
   "outputs": [
    {
     "data": {
      "text/plain": [
       "torch.Size([5, 3])"
      ]
     },
     "execution_count": 10,
     "metadata": {},
     "output_type": "execute_result"
    }
   ],
   "source": [
    "# тоже размеры тензора\n",
    "x.size()"
   ]
  },
  {
   "cell_type": "code",
   "execution_count": 11,
   "metadata": {},
   "outputs": [
    {
     "data": {
      "text/plain": [
       "tensor([[5.4528, 5.0029, 5.3485],\n",
       "        [5.8736, 5.9935, 5.6619],\n",
       "        [5.9980, 5.5366, 5.5366],\n",
       "        [5.8365, 5.1910, 5.6753],\n",
       "        [5.9053, 5.2032, 5.7880]])"
      ]
     },
     "execution_count": 11,
     "metadata": {},
     "output_type": "execute_result"
    }
   ],
   "source": [
    "# сложение\n",
    "x + 5"
   ]
  },
  {
   "cell_type": "code",
   "execution_count": 13,
   "metadata": {},
   "outputs": [
    {
     "data": {
      "text/plain": [
       "tensor([[0.3265, 0.6291, 0.6405, 0.6147, 0.6851],\n",
       "        [0.6291, 2.1884, 1.7601, 1.3675, 1.5143],\n",
       "        [0.6405, 1.7601, 1.5719, 1.2997, 1.4353],\n",
       "        [0.6147, 1.3675, 1.2997, 1.1922, 1.3282],\n",
       "        [0.6851, 1.5143, 1.4353, 1.3282, 1.4817]])"
      ]
     },
     "execution_count": 13,
     "metadata": {},
     "output_type": "execute_result"
    }
   ],
   "source": [
    "# матричное умножение\n",
    "# читайте документацию по различным вариантам: @, torch.mm, torch.matmul, torch.bmm\n",
    "torch.matmul(x, x.transpose(1, 0))"
   ]
  },
  {
   "cell_type": "code",
   "execution_count": 14,
   "metadata": {},
   "outputs": [
    {
     "data": {
      "text/plain": [
       "tensor([[0.3265, 0.6291, 0.6405, 0.6147, 0.6851],\n",
       "        [0.6291, 2.1884, 1.7601, 1.3675, 1.5143],\n",
       "        [0.6405, 1.7601, 1.5719, 1.2997, 1.4353],\n",
       "        [0.6147, 1.3675, 1.2997, 1.1922, 1.3282],\n",
       "        [0.6851, 1.5143, 1.4353, 1.3282, 1.4817]])"
      ]
     },
     "execution_count": 14,
     "metadata": {},
     "output_type": "execute_result"
    }
   ],
   "source": [
    "# очередное матричное умножение\n",
    "x.mm(x.t())"
   ]
  },
  {
   "cell_type": "code",
   "execution_count": 15,
   "metadata": {},
   "outputs": [
    {
     "data": {
      "text/plain": [
       "tensor([[2.0504e-01, 8.3972e-06, 1.2146e-01],\n",
       "        [7.6314e-01, 9.8707e-01, 4.3815e-01],\n",
       "        [9.9607e-01, 2.8791e-01, 2.8791e-01],\n",
       "        [6.9967e-01, 3.6494e-02, 4.5605e-01],\n",
       "        [8.1951e-01, 4.1299e-02, 6.2088e-01]])"
      ]
     },
     "execution_count": 15,
     "metadata": {},
     "output_type": "execute_result"
    }
   ],
   "source": [
    "# поэлементное умножение\n",
    "x * x"
   ]
  },
  {
   "cell_type": "code",
   "execution_count": 16,
   "metadata": {},
   "outputs": [
    {
     "data": {
      "text/plain": [
       "tensor([0.2681, 0.8430, 0.6904, 0.5676, 0.6321])"
      ]
     },
     "execution_count": 16,
     "metadata": {},
     "output_type": "execute_result"
    }
   ],
   "source": [
    "# среднее по колонкам\n",
    "x.mean(dim=-1)"
   ]
  },
  {
   "cell_type": "code",
   "execution_count": 17,
   "metadata": {},
   "outputs": [
    {
     "data": {
      "text/plain": [
       "torch.Size([3, 5])"
      ]
     },
     "execution_count": 17,
     "metadata": {},
     "output_type": "execute_result"
    }
   ],
   "source": [
    "# решейп\n",
    "x.view([3, 5]).shape"
   ]
  },
  {
   "cell_type": "code",
   "execution_count": 18,
   "metadata": {},
   "outputs": [
    {
     "data": {
      "text/plain": [
       "torch.Size([3, 5])"
      ]
     },
     "execution_count": 18,
     "metadata": {},
     "output_type": "execute_result"
    }
   ],
   "source": [
    "# или так\n",
    "x.reshape([3, 5]).shape"
   ]
  },
  {
   "cell_type": "code",
   "execution_count": 19,
   "metadata": {},
   "outputs": [
    {
     "data": {
      "text/plain": [
       "tensor([[ True, False, False, False, False],\n",
       "        [False, False,  True, False, False],\n",
       "        [False, False, False, False,  True]])"
      ]
     },
     "execution_count": 19,
     "metadata": {},
     "output_type": "execute_result"
    }
   ],
   "source": [
    "# будьте внимательны и не используйте view для транспонирования осей!\n",
    "x.view_as(x.t()) == x.t()"
   ]
  },
  {
   "cell_type": "markdown",
   "metadata": {},
   "source": [
    "Небольшой пример того, как меняются операции:\n",
    "\n",
    "* `x.reshape([1,2,8]) -> x.view(1,2,8)`\n",
    "\n",
    "* `x.sum(axis=-1) -> x.sum(dim=-1)`\n",
    "\n",
    "* `x.astype(\"int64\") -> x.type(torch.LongTensor)`\n",
    "\n",
    "Для помощи вам есть [таблица](https://github.com/torch/torch7/wiki/Torch-for-Numpy-users), которая поможет вам найти аналог **NumPy** операции в **PyTorch**\n"
   ]
  },
  {
   "cell_type": "markdown",
   "metadata": {},
   "source": [
    "#### Разминка на pytorch\n",
    "\n",
    "При помощи pytorch посчитайте сумму квадратов натуральных чисел от 1 до 10000."
   ]
  },
  {
   "cell_type": "code",
   "execution_count": 20,
   "metadata": {},
   "outputs": [],
   "source": [
    "# YOUR CODE"
   ]
  },
  {
   "cell_type": "markdown",
   "metadata": {},
   "source": [
    "### 2. Создаем тензоры в **PyTorch** и изучаем больше базовых операций"
   ]
  },
  {
   "cell_type": "code",
   "execution_count": 21,
   "metadata": {},
   "outputs": [
    {
     "data": {
      "text/plain": [
       "tensor([[9.3674e-39, 9.9184e-39, 8.7245e-39],\n",
       "        [9.2755e-39, 8.9082e-39, 9.9184e-39],\n",
       "        [8.4490e-39, 9.6429e-39, 1.0653e-38],\n",
       "        [1.0469e-38, 4.2246e-39, 1.0378e-38],\n",
       "        [9.6429e-39, 9.2755e-39, 1.0928e-38]])"
      ]
     },
     "execution_count": 21,
     "metadata": {},
     "output_type": "execute_result"
    }
   ],
   "source": [
    "# пустой тензор\n",
    "x = torch.empty(5, 3)\n",
    "x"
   ]
  },
  {
   "cell_type": "code",
   "execution_count": 22,
   "metadata": {},
   "outputs": [
    {
     "data": {
      "text/plain": [
       "tensor([[0.0284, 0.0481, 0.6877],\n",
       "        [0.5802, 0.5990, 0.1649],\n",
       "        [0.3165, 0.8104, 0.0322],\n",
       "        [0.2029, 0.9638, 0.9423],\n",
       "        [0.5508, 0.2585, 0.6520]])"
      ]
     },
     "execution_count": 22,
     "metadata": {},
     "output_type": "execute_result"
    }
   ],
   "source": [
    "# случайный тензор ~ Uniform[0, 1)\n",
    "x = torch.rand(5, 3)\n",
    "x"
   ]
  },
  {
   "cell_type": "code",
   "execution_count": 23,
   "metadata": {},
   "outputs": [
    {
     "data": {
      "text/plain": [
       "tensor([[0., 0., 0.],\n",
       "        [0., 0., 0.],\n",
       "        [0., 0., 0.],\n",
       "        [0., 0., 0.],\n",
       "        [0., 0., 0.]])"
      ]
     },
     "execution_count": 23,
     "metadata": {},
     "output_type": "execute_result"
    }
   ],
   "source": [
    "# тензор с нулями и указанием типов чисел\n",
    "x = torch.zeros(5, 3, dtype=torch.float32)\n",
    "x"
   ]
  },
  {
   "cell_type": "code",
   "execution_count": 24,
   "metadata": {},
   "outputs": [
    {
     "data": {
      "text/plain": [
       "tensor([5.5000, 3.0000])"
      ]
     },
     "execution_count": 24,
     "metadata": {},
     "output_type": "execute_result"
    }
   ],
   "source": [
    "# конструируем тензор из питоновского листа\n",
    "x = torch.tensor([5.5, 3])\n",
    "x"
   ]
  },
  {
   "cell_type": "code",
   "execution_count": 25,
   "metadata": {},
   "outputs": [
    {
     "data": {
      "text/plain": [
       "tensor([[1., 1., 1.],\n",
       "        [1., 1., 1.],\n",
       "        [1., 1., 1.],\n",
       "        [1., 1., 1.],\n",
       "        [1., 1., 1.]], dtype=torch.float64)"
      ]
     },
     "execution_count": 25,
     "metadata": {},
     "output_type": "execute_result"
    }
   ],
   "source": [
    "# используем уже созданный тензор для создания тензора из единичек\n",
    "x1 = x.new_ones(5, 3, dtype=torch.double)\n",
    "x1"
   ]
  },
  {
   "cell_type": "code",
   "execution_count": 26,
   "metadata": {},
   "outputs": [
    {
     "data": {
      "text/plain": [
       "tensor([[-0.0575,  0.1643, -0.0550],\n",
       "        [ 0.0522, -1.6814,  0.1503],\n",
       "        [-0.3847, -0.0521,  0.2159],\n",
       "        [-1.9751,  0.3400,  1.4571],\n",
       "        [-0.4192,  1.2175,  0.4754]])"
      ]
     },
     "execution_count": 26,
     "metadata": {},
     "output_type": "execute_result"
    }
   ],
   "source": [
    "# создаем случайный тензор с размерами другого тензора\n",
    "x = torch.randn_like(x1, dtype=torch.float)\n",
    "x"
   ]
  },
  {
   "cell_type": "code",
   "execution_count": 27,
   "metadata": {},
   "outputs": [],
   "source": [
    "x = torch.rand(5, 3)\n",
    "y = torch.rand(5, 3)"
   ]
  },
  {
   "cell_type": "code",
   "execution_count": 28,
   "metadata": {},
   "outputs": [
    {
     "data": {
      "text/plain": [
       "tensor([[0.8329, 0.2608, 0.0497],\n",
       "        [0.2713, 0.1934, 0.2195],\n",
       "        [0.2198, 0.5552, 0.7820],\n",
       "        [0.6003, 0.8136, 0.3922],\n",
       "        [0.5323, 0.4946, 0.7240]])"
      ]
     },
     "execution_count": 28,
     "metadata": {},
     "output_type": "execute_result"
    }
   ],
   "source": [
    "x"
   ]
  },
  {
   "cell_type": "code",
   "execution_count": 29,
   "metadata": {},
   "outputs": [
    {
     "data": {
      "text/plain": [
       "tensor([[0.1366, 0.7769, 0.6347],\n",
       "        [0.0908, 0.6578, 0.2546],\n",
       "        [0.7486, 0.1118, 0.2544],\n",
       "        [0.0589, 0.8341, 0.8757],\n",
       "        [0.3915, 0.1057, 0.5028]])"
      ]
     },
     "execution_count": 29,
     "metadata": {},
     "output_type": "execute_result"
    }
   ],
   "source": [
    "y"
   ]
  },
  {
   "cell_type": "code",
   "execution_count": 30,
   "metadata": {},
   "outputs": [
    {
     "data": {
      "text/plain": [
       "tensor([[0.9695, 1.0377, 0.6843],\n",
       "        [0.3621, 0.8512, 0.4741],\n",
       "        [0.9685, 0.6670, 1.0364],\n",
       "        [0.6592, 1.6477, 1.2679],\n",
       "        [0.9237, 0.6002, 1.2267]])"
      ]
     },
     "execution_count": 30,
     "metadata": {},
     "output_type": "execute_result"
    }
   ],
   "source": [
    "# сложение\n",
    "x + y"
   ]
  },
  {
   "cell_type": "code",
   "execution_count": 31,
   "metadata": {},
   "outputs": [
    {
     "data": {
      "text/plain": [
       "tensor([[0.9695, 1.0377, 0.6843],\n",
       "        [0.3621, 0.8512, 0.4741],\n",
       "        [0.9685, 0.6670, 1.0364],\n",
       "        [0.6592, 1.6477, 1.2679],\n",
       "        [0.9237, 0.6002, 1.2267]])"
      ]
     },
     "execution_count": 31,
     "metadata": {},
     "output_type": "execute_result"
    }
   ],
   "source": [
    "# очередное сложение\n",
    "z = torch.add(x, y)\n",
    "z"
   ]
  },
  {
   "cell_type": "code",
   "execution_count": 32,
   "metadata": {},
   "outputs": [
    {
     "data": {
      "text/plain": [
       "tensor([[0.9695, 1.0377, 0.6843],\n",
       "        [0.3621, 0.8512, 0.4741],\n",
       "        [0.9685, 0.6670, 1.0364],\n",
       "        [0.6592, 1.6477, 1.2679],\n",
       "        [0.9237, 0.6002, 1.2267]])"
      ]
     },
     "execution_count": 32,
     "metadata": {},
     "output_type": "execute_result"
    }
   ],
   "source": [
    "# наконец, ещё одно сложение!\n",
    "torch.add(x, y, out=x)\n",
    "x"
   ]
  },
  {
   "cell_type": "code",
   "execution_count": 35,
   "metadata": {},
   "outputs": [
    {
     "data": {
      "text/plain": [
       "torch.Size([1, 5, 3])"
      ]
     },
     "execution_count": 35,
     "metadata": {},
     "output_type": "execute_result"
    }
   ],
   "source": [
    "# добавили измерение в начало\n",
    "x.unsqueeze(0).size()"
   ]
  },
  {
   "cell_type": "code",
   "execution_count": 36,
   "metadata": {},
   "outputs": [
    {
     "data": {
      "text/plain": [
       "torch.Size([1, 5, 3])"
      ]
     },
     "execution_count": 36,
     "metadata": {},
     "output_type": "execute_result"
    }
   ],
   "source": [
    "# убрали одно единичное измерение\n",
    "x.unsqueeze(0).unsqueeze(1).squeeze(0).size()"
   ]
  },
  {
   "cell_type": "code",
   "execution_count": 37,
   "metadata": {},
   "outputs": [
    {
     "data": {
      "text/plain": [
       "torch.Size([5, 3])"
      ]
     },
     "execution_count": 37,
     "metadata": {},
     "output_type": "execute_result"
    }
   ],
   "source": [
    "# убрали все единичные измерения\n",
    "x.unsqueeze(0).unsqueeze(1).squeeze().size()"
   ]
  },
  {
   "cell_type": "code",
   "execution_count": 38,
   "metadata": {},
   "outputs": [
    {
     "data": {
      "text/plain": [
       "torch.Size([5, 3])"
      ]
     },
     "execution_count": 38,
     "metadata": {},
     "output_type": "execute_result"
    }
   ],
   "source": [
    "# операции без _ не меняют тензор, а создают копию\n",
    "x.unsqueeze(0)\n",
    "x.size()"
   ]
  },
  {
   "cell_type": "code",
   "execution_count": 39,
   "metadata": {},
   "outputs": [
    {
     "data": {
      "text/plain": [
       "torch.Size([1, 5, 3])"
      ]
     },
     "execution_count": 39,
     "metadata": {},
     "output_type": "execute_result"
    }
   ],
   "source": [
    "# операции с _ меняют тензор\n",
    "x.unsqueeze_(0)\n",
    "x.size()"
   ]
  },
  {
   "cell_type": "markdown",
   "metadata": {},
   "source": [
    "Мы можем делать обычные срезы и переводить матрицы из **PyTorch** в **NumPy** и наоборот:"
   ]
  },
  {
   "cell_type": "code",
   "execution_count": 40,
   "metadata": {},
   "outputs": [
    {
     "data": {
      "text/plain": [
       "True"
      ]
     },
     "execution_count": 40,
     "metadata": {},
     "output_type": "execute_result"
    }
   ],
   "source": [
    "a = np.ones((3, 5))\n",
    "x = torch.ones((3, 5))\n",
    "np.allclose(x.numpy(), a)"
   ]
  },
  {
   "cell_type": "code",
   "execution_count": 41,
   "metadata": {},
   "outputs": [
    {
     "data": {
      "text/plain": [
       "True"
      ]
     },
     "execution_count": 41,
     "metadata": {},
     "output_type": "execute_result"
    }
   ],
   "source": [
    "np.allclose(x.numpy()[:, 1], a[:, 1])"
   ]
  },
  {
   "cell_type": "code",
   "execution_count": 42,
   "metadata": {},
   "outputs": [
    {
     "data": {
      "text/plain": [
       "tensor([[1., 1., 1., 1., 1.],\n",
       "        [1., 1., 1., 1., 1.],\n",
       "        [1., 1., 1., 1., 1.]])"
      ]
     },
     "execution_count": 42,
     "metadata": {},
     "output_type": "execute_result"
    }
   ],
   "source": [
    "torch.from_numpy(x.numpy())"
   ]
  },
  {
   "cell_type": "markdown",
   "metadata": {},
   "source": [
    "### 3. Работаем с градиентами руками"
   ]
  },
  {
   "cell_type": "code",
   "execution_count": 43,
   "metadata": {},
   "outputs": [
    {
     "data": {
      "image/png": "[encoded data removed]",
      "text/plain": [
       "<Figure size 432x288 with 1 Axes>"
      ]
     },
     "metadata": {
      "needs_background": "light"
     },
     "output_type": "display_data"
    }
   ],
   "source": [
    "boston = load_boston()\n",
    "plt.scatter(boston.data[:, -1], boston.target);"
   ]
  },
  {
   "cell_type": "markdown",
   "metadata": {},
   "source": [
    "В **PyTorch** есть возможность при создании тензора указывать нужно ли считать по нему градиент или нет, с помощью параметра `requires_grad`. Когда `requires_grad=True` мы сообщаем фреймворку, о том, что мы хотим следить за всеми тензорами, которые получаются из созданного. Иными словами, у любого тензора, у которого указан данный параметр, будет доступ к цепочке операций и преобразований совершенными с ними. Если эти функции дифференцируемые, то у тензора появляется параметр `.grad`, в котором хранится значение градиента."
   ]
  },
  {
   "attachments": {
    "torch_grad.png": {
     "image/png": "[encoded data removed]"
    }
   },
   "cell_type": "markdown",
   "metadata": {},
   "source": [
    "![torch_grad.png](attachment:torch_grad.png)"
   ]
  },
  {
   "cell_type": "markdown",
   "metadata": {},
   "source": [
    "Если к результирующему тензору применить метод `.backward()`, то фреймворк посчитает по цепочке градиенты для всех тензоров, у которых `requires_grad=True`."
   ]
  },
  {
   "cell_type": "code",
   "execution_count": 44,
   "metadata": {},
   "outputs": [],
   "source": [
    "w = torch.rand(1, requires_grad=True)\n",
    "b = torch.rand(1, requires_grad=True)\n",
    "\n",
    "x = torch.tensor(boston.data[:, -1] / boston.data[:, -1].max(), dtype=torch.float32)\n",
    "y = torch.tensor(boston.target, dtype=torch.float32)\n",
    "\n",
    "# только создали тензоры и в них нет градиентов\n",
    "assert w.grad is None\n",
    "assert b.grad is None"
   ]
  },
  {
   "cell_type": "code",
   "execution_count": 45,
   "metadata": {},
   "outputs": [
    {
     "data": {
      "text/plain": [
       "(torch.Size([506]), torch.Size([506]))"
      ]
     },
     "execution_count": 45,
     "metadata": {},
     "output_type": "execute_result"
    }
   ],
   "source": [
    "x.size(), y.size()"
   ]
  },
  {
   "cell_type": "code",
   "execution_count": 46,
   "metadata": {},
   "outputs": [],
   "source": [
    "y_pred = w * x + b\n",
    "loss = torch.mean((y_pred - y) ** 2)\n",
    "loss.backward()"
   ]
  },
  {
   "cell_type": "code",
   "execution_count": 47,
   "metadata": {},
   "outputs": [
    {
     "name": "stdout",
     "output_type": "stream",
     "text": [
      "dL/dw = tensor([-12.0545])\n",
      "dL/db = tensor([-43.9611])\n"
     ]
    }
   ],
   "source": [
    "# сделали операции и посчитали градиенты, появилось значение соответствующих полей\n",
    "assert w.grad is not None\n",
    "assert b.grad is not None\n",
    "\n",
    "print(f\"dL/dw = {w.grad}\")\n",
    "print(f\"dL/db = {b.grad}\")"
   ]
  },
  {
   "cell_type": "markdown",
   "metadata": {},
   "source": [
    "Для доступа к значениям в тензоре используйте атрибут `.data`:"
   ]
  },
  {
   "cell_type": "code",
   "execution_count": 48,
   "metadata": {},
   "outputs": [
    {
     "data": {
      "text/plain": [
       "(tensor([0.6829]), tensor([-12.0545]))"
      ]
     },
     "execution_count": 48,
     "metadata": {},
     "output_type": "execute_result"
    }
   ],
   "source": [
    "w.data, w.grad"
   ]
  },
  {
   "cell_type": "code",
   "execution_count": 49,
   "metadata": {},
   "outputs": [
    {
     "data": {
      "text/plain": [
       "tensor([0.6829], requires_grad=True)"
      ]
     },
     "execution_count": 49,
     "metadata": {},
     "output_type": "execute_result"
    }
   ],
   "source": [
    "w"
   ]
  },
  {
   "cell_type": "code",
   "execution_count": 50,
   "metadata": {},
   "outputs": [
    {
     "data": {
      "image/png": "[encoded data removed]",
      "text/plain": [
       "<Figure size 720x576 with 1 Axes>"
      ]
     },
     "metadata": {
      "needs_background": "light"
     },
     "output_type": "display_data"
    },
    {
     "name": "stdout",
     "output_type": "stream",
     "text": [
      "loss =  48.428074\n"
     ]
    }
   ],
   "source": [
    "from IPython.display import clear_output\n",
    "\n",
    "for i in range(300):\n",
    "    y_pred = w * x + b\n",
    "    # попробуйте сделать полиномиальную регрессию в данном предсказании и посчитать градиенты после\n",
    "    loss = torch.mean((y_pred - y) ** 2)\n",
    "    loss.backward()\n",
    "\n",
    "    # делаем шаг градиентного спуска с lr = .05\n",
    "    w.data -= 0.05 * w.grad\n",
    "    b.data -= 0.05 * b.grad\n",
    "\n",
    "    # обнуляем градиенты, чтобы на следующем шаге опять посчитать и не аккумулировать их\n",
    "    w.grad.data.zero_()\n",
    "    b.grad.data.zero_()\n",
    "\n",
    "    # рисуем картинки\n",
    "    if (i + 1) % 5 == 0:\n",
    "        clear_output(True)\n",
    "        plt.figure(figsize=(10, 8))\n",
    "        plt.scatter(x.data.numpy(), y.data.numpy(), label=\"data\")\n",
    "        plt.scatter(\n",
    "            x.data.numpy(),\n",
    "            y_pred.data.numpy(),\n",
    "            color=\"orange\",\n",
    "            linewidth=5,\n",
    "            label=\"predictions\",\n",
    "        )\n",
    "        plt.xlabel(\"LSTAT\", fontsize=14)\n",
    "        plt.ylabel(\"MEDV (target)\", fontsize=14)\n",
    "        plt.title(\"Boston modelling\", fontsize=18)\n",
    "        plt.legend(fontsize=14)\n",
    "        plt.show()\n",
    "\n",
    "        print(\"loss = \", loss.data.numpy())\n",
    "        if loss.data.numpy() < 0.1:\n",
    "            print(\"Done!\")\n",
    "            break"
   ]
  },
  {
   "cell_type": "markdown",
   "metadata": {},
   "source": [
    "### 4. Моя первая нейросеть\n",
    "\n",
    "Для того, чтобы разобраться как обучать нейросети в **PyTorch**, нужно освоить три вещи:\n",
    "\n",
    "1. Как формировать батчи и подавать их на вход сети\n",
    "2. Как задать архитектуру сети\n",
    "3. Как написать цикл обучения и отслеживать метрики\n",
    "\n",
    "#### Как формировать батчи и подавать их на вход нейросети\n",
    "\n",
    "Чтобы иметь возможность итерироваться по данным и применять к ним преобразования (например, аугментации, о которых вы узнаете позже), нужно создать свой класс унаследованный от `torch.utils.data.Dataset`.\n",
    "\n",
    "У такого класса **должно быть** три метода:\n",
    "\n",
    "* `__init__` — создаёт поля класса (например, путь к папке с файлами с тренировочными объектами)\n",
    "* `__len__` — возвращает информацию о том, сколько объектов у нас в датасете\n",
    "* `__getitem__` — по индексу возвращает семпл и таргет к нему\n",
    "\n",
    "\n",
    "Давайте напишем такой сами, в качестве данных используя рандомные значения."
   ]
  },
  {
   "cell_type": "code",
   "execution_count": 51,
   "metadata": {},
   "outputs": [],
   "source": [
    "class RandomDataset(torch.utils.data.Dataset):\n",
    "    \"\"\"\n",
    "    Our random dataset\n",
    "    \"\"\"\n",
    "\n",
    "    def __init__(self, x, y):\n",
    "        self.x = x\n",
    "        self.y = y\n",
    "\n",
    "    def __len__(self):\n",
    "        return len(self.x)\n",
    "\n",
    "    def __getitem__(self, idx):\n",
    "        return {\n",
    "            \"sample\": torch.tensor(self.x[idx, :], dtype=torch.float),\n",
    "            \"target\": self.y[idx],\n",
    "        }"
   ]
  },
  {
   "cell_type": "code",
   "execution_count": 52,
   "metadata": {},
   "outputs": [],
   "source": [
    "x = np.random.rand(1000, 5)\n",
    "y = np.random.rand(1000)"
   ]
  },
  {
   "cell_type": "code",
   "execution_count": 53,
   "metadata": {},
   "outputs": [],
   "source": [
    "our_dataset = RandomDataset(x, y)"
   ]
  },
  {
   "cell_type": "code",
   "execution_count": 55,
   "metadata": {},
   "outputs": [
    {
     "data": {
      "text/plain": [
       "{'sample': tensor([0.2066, 0.3762, 0.0725, 0.4978, 0.7877]),\n",
       " 'target': 0.983552792330602}"
      ]
     },
     "execution_count": 55,
     "metadata": {},
     "output_type": "execute_result"
    }
   ],
   "source": [
    "our_dataset.__getitem__(999)"
   ]
  },
  {
   "cell_type": "markdown",
   "metadata": {},
   "source": [
    "Для того, чтобы из данных получать батчи в pytorch используется такая сущность как даталоадер, который принимает на вход класс унаследованный от `torch.utils.data.Dataset`. Посмотрим на пример:"
   ]
  },
  {
   "cell_type": "code",
   "execution_count": 56,
   "metadata": {},
   "outputs": [],
   "source": [
    "dataloader = torch.utils.data.DataLoader(our_dataset, batch_size=4)"
   ]
  },
  {
   "cell_type": "markdown",
   "metadata": {},
   "source": [
    "Работают с ним следующим образом:"
   ]
  },
  {
   "cell_type": "code",
   "execution_count": 57,
   "metadata": {},
   "outputs": [
    {
     "name": "stdout",
     "output_type": "stream",
     "text": [
      "Sample:\n",
      "tensor([[0.6577, 0.1485, 0.5791, 0.0114, 0.3379],\n",
      "        [0.5084, 0.3077, 0.0563, 0.1114, 0.5938],\n",
      "        [0.9252, 0.9748, 0.5497, 0.4033, 0.1794],\n",
      "        [0.0190, 0.8664, 0.5569, 0.1385, 0.9849]])\n",
      "Target:\n",
      "tensor([0.1470, 0.5170, 0.5850, 0.0056], dtype=torch.float64)\n"
     ]
    }
   ],
   "source": [
    "batch = next(iter(dataloader))\n",
    "\n",
    "print(f\"Sample:\\n{batch['sample']}\")\n",
    "print(f\"Target:\\n{batch['target']}\")"
   ]
  },
  {
   "cell_type": "markdown",
   "metadata": {},
   "source": [
    "#### Как сделать нейросеть"
   ]
  },
  {
   "cell_type": "markdown",
   "metadata": {},
   "source": [
    "Для того, чтобы в high-level **PyTorch** создавать нейросети, используется модуль `torch.nn`. Нейросеть должна быть унаследована от класса `nn.Module`. Пример как это может выглядеть:\n",
    "\n",
    "```\n",
    "class Model(nn.Module):\n",
    "    def __init__(self):\n",
    "        super(Model, self).__init__()\n",
    "        self.conv1 = nn.Conv2d(1, 20, 5)\n",
    "        self.conv2 = nn.Conv2d(20, 20, 5)\n",
    "\n",
    "    def forward(self, x):\n",
    "       x = F.relu(self.conv1(x))\n",
    "       return F.relu(self.conv2(x))\n",
    "```\n",
    "\n",
    "Как мы видим на данном примере, у данного класса **должен быть** метод `forward`, который определяет прямой проход нейросети. Также из класса выше видно, что модуль `nn` содержит в себе реализацию большинства слоев, а модуль `nn.functional` -- функций активаций.\n",
    "\n",
    "Есть еще один способ создать нейросеть и давайте его разберем на практике:"
   ]
  },
  {
   "cell_type": "code",
   "execution_count": 58,
   "metadata": {},
   "outputs": [],
   "source": [
    "model = nn.Sequential()  # создаем пустую модель, в которую будем добавлять слои\n",
    "model.add_module(\n",
    "    \"l1\", nn.Linear(5, 30)\n",
    ")  # добавили слой с 5-ю нейронами на вход и 3-мя на выход\n",
    "model.add_module(\"l2\", nn.ReLU())  # добавили функцию активации\n",
    "model.add_module(\n",
    "    \"l3\", nn.Linear(30, 1)\n",
    ")  # добавили слой с 3-мя нейронами на вход и 5-ю на выход\n",
    "\n",
    "# альтернативный способ\n",
    "another_model = nn.Sequential(nn.Linear(5, 30), nn.ReLU(), nn.Linear(30, 1))"
   ]
  },
  {
   "cell_type": "code",
   "execution_count": 59,
   "metadata": {},
   "outputs": [],
   "source": [
    "y_pred = model(batch[\"sample\"])  # получили предсказания модели"
   ]
  },
  {
   "cell_type": "markdown",
   "metadata": {},
   "source": [
    "#### Как написать цикл обучения и отслеживать метрики\n",
    " \n",
    "Давайте теперь соберем теперь загрузку данных, создание модели и обучим на уже созданном для нас датасете MNIST"
   ]
  },
  {
   "cell_type": "code",
   "execution_count": 60,
   "metadata": {},
   "outputs": [
    {
     "name": "stderr",
     "output_type": "stream",
     "text": [
      "C:\\Users\\SNTkachenko\\Anaconda3_2011\\lib\\site-packages\\torchvision\\datasets\\mnist.py:498: UserWarning: The given NumPy array is not writeable, and PyTorch does not support non-writeable tensors. This means you can write to the underlying (supposedly non-writeable) NumPy array using the tensor. You may want to copy the array to protect its data or make it writeable before converting it to a tensor. This type of warning will be suppressed for the rest of this program. (Triggered internally at  ..\\torch\\csrc\\utils\\tensor_numpy.cpp:180.)\n",
      "  return torch.from_numpy(parsed.astype(m[2], copy=False)).view(*s)\n"
     ]
    }
   ],
   "source": [
    "# используем готовый класс от торча для загрузки данных для тренировки\n",
    "mnist_train = torchvision.datasets.MNIST(\n",
    "    \"./mnist/\", train=True, download=True, transform=torchvision.transforms.ToTensor()\n",
    ")\n",
    "mnist_val = torchvision.datasets.MNIST(\n",
    "    \"./mnist/\", train=False, download=True, transform=torchvision.transforms.ToTensor()\n",
    ")\n",
    "\n",
    "# так как это уже унаследованный от Dataset класс, его можно сразу обернуть в даталоадер\n",
    "train_dataloader = torch.utils.data.DataLoader(\n",
    "    mnist_train, batch_size=4, shuffle=True, num_workers=1\n",
    ")\n",
    "\n",
    "val_dataloader = torch.utils.data.DataLoader(\n",
    "    mnist_val, batch_size=4, shuffle=False, num_workers=1\n",
    ")"
   ]
  },
  {
   "cell_type": "code",
   "execution_count": 61,
   "metadata": {
    "scrolled": true
   },
   "outputs": [
    {
     "data": {
      "image/png": "[encoded data removed]",
      "text/plain": [
       "<Figure size 432x288 with 2 Axes>"
      ]
     },
     "metadata": {
      "needs_background": "light"
     },
     "output_type": "display_data"
    }
   ],
   "source": [
    "# посмотрим на то, с чем мы работаем\n",
    "for i in [0, 1]:\n",
    "    plt.subplot(1, 2, i + 1)\n",
    "    plt.imshow(mnist_train[i][0].squeeze(0).numpy().reshape([28, 28]))\n",
    "    plt.title(str(mnist_train[i][1]))\n",
    "plt.show()"
   ]
  },
  {
   "cell_type": "code",
   "execution_count": 62,
   "metadata": {},
   "outputs": [],
   "source": [
    "model = nn.Sequential(\n",
    "    nn.Flatten(),  # превращаем картинку 28х28 в вектор размером 784\n",
    "    nn.Linear(\n",
    "        28 * 28, 128\n",
    "    ),  # линейный слой, преобразующий вектор размера 784 в вектор размера 128\n",
    "    nn.ReLU(),  # нелинейность\n",
    "    nn.Linear(\n",
    "        128, 10\n",
    "    ),  # линейный слой, преобразующий вектор размера 128 в вектор размера 10\n",
    ")\n",
    "\n",
    "# создаем оптимизатор, который будет обновлять веса модели\n",
    "optimizer = torch.optim.SGD(model.parameters(), lr=0.05)"
   ]
  },
  {
   "cell_type": "markdown",
   "metadata": {},
   "source": [
    "Веса моделей хранятся в виде матриц и выглядят так:"
   ]
  },
  {
   "cell_type": "code",
   "execution_count": 63,
   "metadata": {
    "scrolled": false
   },
   "outputs": [
    {
     "data": {
      "text/plain": [
       "[('1.weight',\n",
       "  Parameter containing:\n",
       "  tensor([[ 0.0351, -0.0069,  0.0145,  ...,  0.0152,  0.0050,  0.0240],\n",
       "          [-0.0315, -0.0120, -0.0250,  ..., -0.0285,  0.0257,  0.0255],\n",
       "          [-0.0065, -0.0129, -0.0349,  ..., -0.0105, -0.0329, -0.0180],\n",
       "          ...,\n",
       "          [-0.0331, -0.0014,  0.0179,  ...,  0.0302,  0.0010, -0.0075],\n",
       "          [ 0.0066, -0.0233,  0.0023,  ...,  0.0177, -0.0349,  0.0137],\n",
       "          [ 0.0205, -0.0166,  0.0348,  ...,  0.0249,  0.0086, -0.0212]],\n",
       "         requires_grad=True)),\n",
       " ('1.bias',\n",
       "  Parameter containing:\n",
       "  tensor([ 0.0248,  0.0346,  0.0282, -0.0256,  0.0264,  0.0319, -0.0098,  0.0317,\n",
       "          -0.0277, -0.0324, -0.0278, -0.0193, -0.0119, -0.0144, -0.0017,  0.0249,\n",
       "           0.0100, -0.0320,  0.0149,  0.0323,  0.0270, -0.0213,  0.0319, -0.0047,\n",
       "          -0.0317, -0.0229,  0.0055,  0.0157,  0.0056,  0.0044,  0.0080,  0.0127,\n",
       "           0.0200,  0.0288,  0.0241, -0.0275, -0.0057,  0.0331,  0.0278,  0.0351,\n",
       "           0.0144, -0.0252,  0.0275, -0.0340, -0.0333,  0.0356, -0.0125,  0.0179,\n",
       "           0.0213, -0.0050, -0.0248,  0.0090,  0.0114,  0.0107, -0.0202, -0.0332,\n",
       "          -0.0189, -0.0272, -0.0200,  0.0229, -0.0192, -0.0339, -0.0127, -0.0068,\n",
       "           0.0349, -0.0096,  0.0119, -0.0244,  0.0211,  0.0159, -0.0071, -0.0234,\n",
       "          -0.0225,  0.0229, -0.0102,  0.0311,  0.0179, -0.0355,  0.0263,  0.0291,\n",
       "           0.0169, -0.0225, -0.0142, -0.0057,  0.0210,  0.0274,  0.0132, -0.0046,\n",
       "           0.0226,  0.0069,  0.0268, -0.0348,  0.0223,  0.0064,  0.0084, -0.0024,\n",
       "          -0.0264,  0.0031,  0.0074, -0.0120, -0.0181,  0.0195,  0.0108,  0.0231,\n",
       "           0.0129,  0.0208,  0.0269, -0.0018, -0.0130,  0.0159,  0.0349, -0.0308,\n",
       "           0.0272,  0.0036, -0.0241, -0.0346, -0.0307,  0.0178, -0.0210, -0.0131,\n",
       "          -0.0225,  0.0042, -0.0042, -0.0156, -0.0155, -0.0129,  0.0177, -0.0130],\n",
       "         requires_grad=True)),\n",
       " ('3.weight',\n",
       "  Parameter containing:\n",
       "  tensor([[ 0.0593,  0.0819,  0.0610,  ...,  0.0697, -0.0410, -0.0594],\n",
       "          [ 0.0695, -0.0088, -0.0798,  ..., -0.0371, -0.0508, -0.0266],\n",
       "          [-0.0740,  0.0662, -0.0243,  ..., -0.0203,  0.0731,  0.0527],\n",
       "          ...,\n",
       "          [-0.0199, -0.0276,  0.0198,  ..., -0.0049, -0.0075, -0.0553],\n",
       "          [ 0.0815,  0.0305,  0.0560,  ..., -0.0446,  0.0719, -0.0580],\n",
       "          [-0.0660,  0.0485, -0.0783,  ...,  0.0457,  0.0748, -0.0340]],\n",
       "         requires_grad=True)),\n",
       " ('3.bias',\n",
       "  Parameter containing:\n",
       "  tensor([-0.0163,  0.0705, -0.0039, -0.0030, -0.0673, -0.0257, -0.0679,  0.0340,\n",
       "           0.0137,  0.0388], requires_grad=True))]"
      ]
     },
     "execution_count": 63,
     "metadata": {},
     "output_type": "execute_result"
    }
   ],
   "source": [
    "[x for x in model.named_parameters()]"
   ]
  },
  {
   "cell_type": "code",
   "execution_count": 64,
   "metadata": {
    "scrolled": false
   },
   "outputs": [
    {
     "data": {
      "application/vnd.jupyter.widget-view+json": {
       "model_id": "c25cefcb5d1e482c92d066480f1e925b",
       "version_major": 2,
       "version_minor": 0
      },
      "text/plain": [
       "  0%|          | 0/15000 [00:00<?, ?it/s]"
      ]
     },
     "metadata": {},
     "output_type": "display_data"
    },
    {
     "data": {
      "application/vnd.jupyter.widget-view+json": {
       "model_id": "b2edcf784c7740f9921dd5cc024b2c52",
       "version_major": 2,
       "version_minor": 0
      },
      "text/plain": [
       "  0%|          | 0/2500 [00:00<?, ?it/s]"
      ]
     },
     "metadata": {},
     "output_type": "display_data"
    },
    {
     "name": "stdout",
     "output_type": "stream",
     "text": [
      "Epoch: 0, loss: 0.10448698699474335, accuracy: 0.9682\n"
     ]
    },
    {
     "data": {
      "application/vnd.jupyter.widget-view+json": {
       "model_id": "44c05948c8bd42cca8663eeaa9d9fba1",
       "version_major": 2,
       "version_minor": 0
      },
      "text/plain": [
       "  0%|          | 0/15000 [00:00<?, ?it/s]"
      ]
     },
     "metadata": {},
     "output_type": "display_data"
    },
    {
     "data": {
      "application/vnd.jupyter.widget-view+json": {
       "model_id": "d3a22a488d22404ebe4a418d5f17cdfe",
       "version_major": 2,
       "version_minor": 0
      },
      "text/plain": [
       "  0%|          | 0/15000 [00:00<?, ?it/s]"
      ]
     },
     "metadata": {},
     "output_type": "display_data"
    },
    {
     "data": {
      "application/vnd.jupyter.widget-view+json": {
       "model_id": "63f730e0f96e4c0c8f86f700a2f63449",
       "version_major": 2,
       "version_minor": 0
      },
      "text/plain": [
       "  0%|          | 0/2500 [00:00<?, ?it/s]"
      ]
     },
     "metadata": {},
     "output_type": "display_data"
    },
    {
     "name": "stdout",
     "output_type": "stream",
     "text": [
      "Epoch: 2, loss: 0.08673213422298431, accuracy: 0.9731\n"
     ]
    },
    {
     "data": {
      "application/vnd.jupyter.widget-view+json": {
       "model_id": "676a0350415c4f0eacd28484749d1414",
       "version_major": 2,
       "version_minor": 0
      },
      "text/plain": [
       "  0%|          | 0/15000 [00:00<?, ?it/s]"
      ]
     },
     "metadata": {},
     "output_type": "display_data"
    },
    {
     "data": {
      "application/vnd.jupyter.widget-view+json": {
       "model_id": "9f80dea3b77d44928edf74e3218f89df",
       "version_major": 2,
       "version_minor": 0
      },
      "text/plain": [
       "  0%|          | 0/15000 [00:00<?, ?it/s]"
      ]
     },
     "metadata": {},
     "output_type": "display_data"
    },
    {
     "data": {
      "application/vnd.jupyter.widget-view+json": {
       "model_id": "108fb38925f648c98a56a9248cd3ffdf",
       "version_major": 2,
       "version_minor": 0
      },
      "text/plain": [
       "  0%|          | 0/2500 [00:00<?, ?it/s]"
      ]
     },
     "metadata": {},
     "output_type": "display_data"
    },
    {
     "name": "stdout",
     "output_type": "stream",
     "text": [
      "Epoch: 4, loss: 0.0849250853061676, accuracy: 0.9758\n"
     ]
    }
   ],
   "source": [
    "# всего у нас будет 5 эпох (5 раз подряд пройдемся по всем батчам из трейна)\n",
    "for epoch in range(5):\n",
    "    for x_train, y_train in tqdm(train_dataloader):  # берем батч из трейн лоадера\n",
    "        y_pred = model(x_train)  # делаем предсказания\n",
    "        loss = F.cross_entropy(y_pred, y_train)  # считаем лосс\n",
    "        loss.backward()  # считаем градиенты обратным проходом\n",
    "        optimizer.step()  # обновляем параметры сети\n",
    "        optimizer.zero_grad()  # обнуляем посчитанные градиенты параметров\n",
    "\n",
    "    if epoch % 2 == 0:\n",
    "        val_loss = []  # сюда будем складывать **средний по бачу** лосс\n",
    "        val_accuracy = []\n",
    "        with torch.no_grad():  # на валидации запрещаем фреймворку считать градиенты по параметрам\n",
    "            for x_val, y_val in tqdm(\n",
    "                val_dataloader\n",
    "            ):  # берем батч из валидационного лоадера\n",
    "                y_pred = model(x_val)  # делаем предсказания\n",
    "                loss = F.cross_entropy(y_pred, y_val)  # считаем лосс\n",
    "                val_loss.append(loss.numpy())  # добавляем в массив\n",
    "                val_accuracy.extend(\n",
    "                    (torch.argmax(y_pred, dim=-1) == y_val).numpy().tolist()\n",
    "                )\n",
    "\n",
    "        # печатаем метрики\n",
    "        print(\n",
    "            f\"Epoch: {epoch}, loss: {np.mean(val_loss)}, accuracy: {np.mean(val_accuracy)}\"\n",
    "        )"
   ]
  },
  {
   "cell_type": "markdown",
   "metadata": {},
   "source": [
    "ДЗ: Вам необходимо переписать алгоритм обучения нейронной сети, с целью повышения значения accuracy. Можно пробовать оптимизировать код, саму нейронку или параметры обучения."
   ]
  }
 ],
 "metadata": {
  "kernelspec": {
   "display_name": "Python 3 (ipykernel)",
   "language": "python",
   "name": "python3"
  },
  "language_info": {
   "codemirror_mode": {
    "name": "ipython",
    "version": 3
   },
   "file_extension": ".py",
   "mimetype": "text/x-python",
   "name": "python",
   "nbconvert_exporter": "python",
   "pygments_lexer": "ipython3",
   "version": "3.9.7"
  }
 },
 "nbformat": 4,
 "nbformat_minor": 4
}
